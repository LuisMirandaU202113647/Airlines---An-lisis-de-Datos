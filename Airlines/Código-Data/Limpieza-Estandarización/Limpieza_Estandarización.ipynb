{
 "cells": [
  {
   "cell_type": "code",
   "execution_count": 3,
   "id": "e727bde4-c0cf-4b43-8a4b-cd2026b07b8f",
   "metadata": {},
   "outputs": [
    {
     "data": {
      "text/html": [
       "<div>\n",
       "<style scoped>\n",
       "    .dataframe tbody tr th:only-of-type {\n",
       "        vertical-align: middle;\n",
       "    }\n",
       "\n",
       "    .dataframe tbody tr th {\n",
       "        vertical-align: top;\n",
       "    }\n",
       "\n",
       "    .dataframe thead th {\n",
       "        text-align: right;\n",
       "    }\n",
       "</style>\n",
       "<table border=\"1\" class=\"dataframe\">\n",
       "  <thead>\n",
       "    <tr style=\"text-align: right;\">\n",
       "      <th></th>\n",
       "      <th>Operating Airline</th>\n",
       "      <th>Operating Airline IATA Code</th>\n",
       "      <th>Published Airline</th>\n",
       "      <th>Published Airline IATA Code</th>\n",
       "      <th>GEO Summary</th>\n",
       "      <th>GEO Region</th>\n",
       "      <th>Landing Aircraft Type</th>\n",
       "      <th>Aircraft Body Type</th>\n",
       "      <th>Aircraft Manufacturer</th>\n",
       "      <th>Aircraft Model</th>\n",
       "      <th>Landing Count</th>\n",
       "      <th>Total Landed Weight</th>\n",
       "    </tr>\n",
       "  </thead>\n",
       "  <tbody>\n",
       "    <tr>\n",
       "      <th>0</th>\n",
       "      <td>SkyWest Airlines</td>\n",
       "      <td>OO</td>\n",
       "      <td>United Airlines</td>\n",
       "      <td>UA</td>\n",
       "      <td>International</td>\n",
       "      <td>Canada</td>\n",
       "      <td>Passenger</td>\n",
       "      <td>Regional Jet</td>\n",
       "      <td>Bombardier</td>\n",
       "      <td>CRJ2</td>\n",
       "      <td>30</td>\n",
       "      <td>1410000</td>\n",
       "    </tr>\n",
       "    <tr>\n",
       "      <th>1</th>\n",
       "      <td>Air Canada</td>\n",
       "      <td>AC</td>\n",
       "      <td>Air Canada</td>\n",
       "      <td>AC</td>\n",
       "      <td>International</td>\n",
       "      <td>Canada</td>\n",
       "      <td>Passenger</td>\n",
       "      <td>Narrow Body</td>\n",
       "      <td>Airbus</td>\n",
       "      <td>A320</td>\n",
       "      <td>125</td>\n",
       "      <td>17787978</td>\n",
       "    </tr>\n",
       "    <tr>\n",
       "      <th>2</th>\n",
       "      <td>Japan Airlines</td>\n",
       "      <td>JL</td>\n",
       "      <td>Japan Airlines</td>\n",
       "      <td>JL</td>\n",
       "      <td>International</td>\n",
       "      <td>Asia</td>\n",
       "      <td>Passenger</td>\n",
       "      <td>Wide Body</td>\n",
       "      <td>Boeing</td>\n",
       "      <td>B773</td>\n",
       "      <td>30</td>\n",
       "      <td>16620000</td>\n",
       "    </tr>\n",
       "    <tr>\n",
       "      <th>3</th>\n",
       "      <td>COPA Airlines, Inc.</td>\n",
       "      <td>CM</td>\n",
       "      <td>COPA Airlines, Inc.</td>\n",
       "      <td>CM</td>\n",
       "      <td>International</td>\n",
       "      <td>Central America</td>\n",
       "      <td>Passenger</td>\n",
       "      <td>Narrow Body</td>\n",
       "      <td>Boeing</td>\n",
       "      <td>B739</td>\n",
       "      <td>3</td>\n",
       "      <td>491700</td>\n",
       "    </tr>\n",
       "    <tr>\n",
       "      <th>4</th>\n",
       "      <td>Hong Kong Airlines Limited</td>\n",
       "      <td>HX</td>\n",
       "      <td>Hong Kong Airlines Limited</td>\n",
       "      <td>HX</td>\n",
       "      <td>International</td>\n",
       "      <td>Asia</td>\n",
       "      <td>Passenger</td>\n",
       "      <td>Wide Body</td>\n",
       "      <td>Airbus</td>\n",
       "      <td>A359</td>\n",
       "      <td>16</td>\n",
       "      <td>7301712</td>\n",
       "    </tr>\n",
       "  </tbody>\n",
       "</table>\n",
       "</div>"
      ],
      "text/plain": [
       "            Operating Airline Operating Airline IATA Code  \\\n",
       "0            SkyWest Airlines                          OO   \n",
       "1                  Air Canada                          AC   \n",
       "2              Japan Airlines                          JL   \n",
       "3         COPA Airlines, Inc.                          CM   \n",
       "4  Hong Kong Airlines Limited                          HX   \n",
       "\n",
       "            Published Airline Published Airline IATA Code    GEO Summary  \\\n",
       "0             United Airlines                          UA  International   \n",
       "1                  Air Canada                          AC  International   \n",
       "2              Japan Airlines                          JL  International   \n",
       "3         COPA Airlines, Inc.                          CM  International   \n",
       "4  Hong Kong Airlines Limited                          HX  International   \n",
       "\n",
       "        GEO Region Landing Aircraft Type Aircraft Body Type  \\\n",
       "0           Canada             Passenger       Regional Jet   \n",
       "1           Canada             Passenger        Narrow Body   \n",
       "2             Asia             Passenger          Wide Body   \n",
       "3  Central America             Passenger        Narrow Body   \n",
       "4             Asia             Passenger          Wide Body   \n",
       "\n",
       "  Aircraft Manufacturer Aircraft Model  Landing Count  Total Landed Weight  \n",
       "0            Bombardier           CRJ2             30              1410000  \n",
       "1                Airbus           A320            125             17787978  \n",
       "2                Boeing           B773             30             16620000  \n",
       "3                Boeing           B739              3               491700  \n",
       "4                Airbus           A359             16              7301712  "
      ]
     },
     "execution_count": 3,
     "metadata": {},
     "output_type": "execute_result"
    }
   ],
   "source": [
    "import pandas\n",
    "import pandasql\n",
    "cleaned_air=pandas.read_csv('cleaned_air.csv')\n",
    "cleaned_air[:5]"
   ]
  },
  {
   "cell_type": "code",
   "execution_count": 4,
   "id": "67bf6a98-29d9-42cd-adb7-fe36f567ee76",
   "metadata": {},
   "outputs": [
    {
     "name": "stdout",
     "output_type": "stream",
     "text": [
      "Aerolíneas Publicadas:\n"
     ]
    },
    {
     "data": {
      "text/plain": [
       "97"
      ]
     },
     "execution_count": 4,
     "metadata": {},
     "output_type": "execute_result"
    }
   ],
   "source": [
    "##Estandarización de aerolíneas\n",
    "###Contar cantidad de aerolíneas operativas y publicadas\n",
    "print('Aerolíneas Publicadas:')\n",
    "len(cleaned_air['Published Airline'].drop_duplicates())"
   ]
  },
  {
   "cell_type": "code",
   "execution_count": 5,
   "id": "e44e13ca-67ae-4108-b177-d71774df8f70",
   "metadata": {},
   "outputs": [
    {
     "name": "stdout",
     "output_type": "stream",
     "text": [
      "Aerolíneas Operativas:\n"
     ]
    },
    {
     "data": {
      "text/plain": [
       "107"
      ]
     },
     "execution_count": 5,
     "metadata": {},
     "output_type": "execute_result"
    }
   ],
   "source": [
    "print('Aerolíneas Operativas:')\n",
    "len(cleaned_air['Operating Airline'].drop_duplicates())"
   ]
  },
  {
   "cell_type": "code",
   "execution_count": 6,
   "id": "f4ff32ed-f541-45a4-9842-d2dfc58df54b",
   "metadata": {},
   "outputs": [
    {
     "data": {
      "text/html": [
       "<div>\n",
       "<style scoped>\n",
       "    .dataframe tbody tr th:only-of-type {\n",
       "        vertical-align: middle;\n",
       "    }\n",
       "\n",
       "    .dataframe tbody tr th {\n",
       "        vertical-align: top;\n",
       "    }\n",
       "\n",
       "    .dataframe thead th {\n",
       "        text-align: right;\n",
       "    }\n",
       "</style>\n",
       "<table border=\"1\" class=\"dataframe\">\n",
       "  <thead>\n",
       "    <tr style=\"text-align: right;\">\n",
       "      <th></th>\n",
       "      <th>Published Airline</th>\n",
       "    </tr>\n",
       "    <tr>\n",
       "      <th>Published Airline</th>\n",
       "      <th></th>\n",
       "    </tr>\n",
       "  </thead>\n",
       "  <tbody>\n",
       "    <tr>\n",
       "      <th>United Airlines - Pre 07/01/2013</th>\n",
       "      <td>2274</td>\n",
       "    </tr>\n",
       "  </tbody>\n",
       "</table>\n",
       "</div>"
      ],
      "text/plain": [
       "                                  Published Airline\n",
       "Published Airline                                  \n",
       "United Airlines - Pre 07/01/2013               2274"
      ]
     },
     "execution_count": 6,
     "metadata": {},
     "output_type": "execute_result"
    }
   ],
   "source": [
    "###Búsqueda de datos anormales con una estructura parecida a - Pre 07/01/2013\n",
    "anormal_data_published=cleaned_air[cleaned_air['Published Airline'].str.contains(r'.-\\s\\w+\\s\\d')].groupby('Published Airline')['Published Airline'].count()\n",
    "anormal_data_published=anormal_data_published.to_frame()\n",
    "anormal_data_published.description='Anormal data from published airlines'\n",
    "anormal_data_published"
   ]
  },
  {
   "cell_type": "code",
   "execution_count": 7,
   "id": "0bff0ee1-f2ba-48b1-a396-0b4000b53d02",
   "metadata": {},
   "outputs": [
    {
     "data": {
      "text/html": [
       "<div>\n",
       "<style scoped>\n",
       "    .dataframe tbody tr th:only-of-type {\n",
       "        vertical-align: middle;\n",
       "    }\n",
       "\n",
       "    .dataframe tbody tr th {\n",
       "        vertical-align: top;\n",
       "    }\n",
       "\n",
       "    .dataframe thead th {\n",
       "        text-align: right;\n",
       "    }\n",
       "</style>\n",
       "<table border=\"1\" class=\"dataframe\">\n",
       "  <thead>\n",
       "    <tr style=\"text-align: right;\">\n",
       "      <th></th>\n",
       "      <th>Operating Airline</th>\n",
       "    </tr>\n",
       "    <tr>\n",
       "      <th>Operating Airline</th>\n",
       "      <th></th>\n",
       "    </tr>\n",
       "  </thead>\n",
       "  <tbody>\n",
       "    <tr>\n",
       "      <th>United Airlines - Pre 07/01/2013</th>\n",
       "      <td>1834</td>\n",
       "    </tr>\n",
       "  </tbody>\n",
       "</table>\n",
       "</div>"
      ],
      "text/plain": [
       "                                  Operating Airline\n",
       "Operating Airline                                  \n",
       "United Airlines - Pre 07/01/2013               1834"
      ]
     },
     "execution_count": 7,
     "metadata": {},
     "output_type": "execute_result"
    }
   ],
   "source": [
    "###Búsqueda de datos anormales con una estructura parecida a - Pre 07/01/2013\n",
    "anormal_data_operating=cleaned_air[cleaned_air['Operating Airline'].str.contains(r'.-\\s\\w+\\s\\d')].groupby('Operating Airline')['Operating Airline'].count()\n",
    "anormal_data_operating=anormal_data_operating.to_frame()\n",
    "anormal_data_operating.description='Anormal data from operating airlines'\n",
    "anormal_data_operating"
   ]
  },
  {
   "cell_type": "code",
   "execution_count": 8,
   "id": "b474b861-8f3c-4f7c-99e7-649690374ac4",
   "metadata": {},
   "outputs": [
    {
     "name": "stdout",
     "output_type": "stream",
     "text": [
      "Replaced data in Operating Airline with the dataset: Anormal data from operating airlines\n",
      "--------------------------------------------------------------------\n",
      "United Airlines\n",
      "--------------------------------------------------------------------\n",
      "Replaced data in Published Airline with the dataset: Anormal data from published airlines\n",
      "--------------------------------------------------------------------\n",
      "United Airlines\n",
      "--------------------------------------------------------------------\n"
     ]
    }
   ],
   "source": [
    "##Reemplazo de datos\n",
    "import re\n",
    "def replace_anormal_airlines(anormal_data,tipo_aerolinea):\n",
    "    ##Muestra en qué columna se reemplazaron los datos, qué dataframe de datos anormales fue utilizado para el reemplazo y por cuáles datos se reemplazaron\n",
    "    print('Replaced data in '+tipo_aerolinea+' with the dataset: '+anormal_data.description)\n",
    "    print('--------------------------------------------------------------------')\n",
    "    ##Estructura for que itera encima del dataframe de datos anormales y obtiene el string de cada fila\n",
    "    for anormal_airline in anormal_data.index:\n",
    "        ##Recoge la parte anormal del string\n",
    "        anormal_string=re.findall(r'.-\\s\\w+\\s\\d.+',anormal_airline)\n",
    "        ##Separa el string original justo en donde se encuentra la parte anormal\n",
    "        splitted_string=anormal_airline.split(anormal_string[0])\n",
    "        ##Recoge la parte del string que se ajusta a la estandarización\n",
    "        structured_string=splitted_string[0]\n",
    "        ##Reemplaza los datos anormales en la columna indicada del dataframe de aerolíneas con el string estandarizado\n",
    "        cleaned_air[tipo_aerolinea]=cleaned_air[tipo_aerolinea].replace(anormal_airline,structured_string)\n",
    "        print(structured_string)\n",
    "    print('--------------------------------------------------------------------')\n",
    "replace_anormal_airlines(anormal_data_operating,'Operating Airline')\n",
    "replace_anormal_airlines(anormal_data_published,'Published Airline')"
   ]
  },
  {
   "cell_type": "code",
   "execution_count": 7,
   "id": "783267aa-138f-4a73-8b20-dae8090a5b9e",
   "metadata": {},
   "outputs": [
    {
     "data": {
      "text/plain": [
       "Series([], Name: Published Airline, dtype: int64)"
      ]
     },
     "execution_count": 7,
     "metadata": {},
     "output_type": "execute_result"
    }
   ],
   "source": [
    "##Asegurar que se hayan limpiado los datos\n",
    "cleaned_air[cleaned_air['Operating Airline'].str.contains(r'.-\\s\\w+\\s\\d')].groupby('Operating Airline')['Operating Airline'].count()\n",
    "cleaned_air[cleaned_air['Published Airline'].str.contains(r'.-\\s\\w+\\s\\d')].groupby('Published Airline')['Published Airline'].count()"
   ]
  },
  {
   "cell_type": "code",
   "execution_count": 8,
   "id": "01b3033f-371e-4ce6-bfac-647ef3839ae0",
   "metadata": {},
   "outputs": [],
   "source": [
    "##Exportar datos estandarizados\n",
    "cleaned_air.to_csv('cleaned_airlines.csv')"
   ]
  }
 ],
 "metadata": {
  "kernelspec": {
   "display_name": "Python 3 (ipykernel)",
   "language": "python",
   "name": "python3"
  },
  "language_info": {
   "codemirror_mode": {
    "name": "ipython",
    "version": 3
   },
   "file_extension": ".py",
   "mimetype": "text/x-python",
   "name": "python",
   "nbconvert_exporter": "python",
   "pygments_lexer": "ipython3",
   "version": "3.12.4"
  }
 },
 "nbformat": 4,
 "nbformat_minor": 5
}
